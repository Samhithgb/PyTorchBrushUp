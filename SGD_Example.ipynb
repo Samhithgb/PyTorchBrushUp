{
  "nbformat": 4,
  "nbformat_minor": 0,
  "metadata": {
    "colab": {
      "name": "SGD-Example.ipynb",
      "provenance": [],
      "authorship_tag": "ABX9TyNfIgEXiKa01bspP6ROsiex",
      "include_colab_link": true
    },
    "kernelspec": {
      "name": "python3",
      "display_name": "Python 3"
    }
  },
  "cells": [
    {
      "cell_type": "markdown",
      "metadata": {
        "id": "view-in-github",
        "colab_type": "text"
      },
      "source": [
        "<a href=\"https://colab.research.google.com/github/Samhithgb/PyTorchBrushUp/blob/master/SGD_Example.ipynb\" target=\"_parent\"><img src=\"https://colab.research.google.com/assets/colab-badge.svg\" alt=\"Open In Colab\"/></a>"
      ]
    },
    {
      "cell_type": "code",
      "metadata": {
        "id": "W8hIo4QkdvYH",
        "colab_type": "code",
        "colab": {}
      },
      "source": [
        "%matplotlib inline\n",
        "from fastai.basics import *"
      ],
      "execution_count": 1,
      "outputs": []
    },
    {
      "cell_type": "code",
      "metadata": {
        "id": "7dK5G09aeexi",
        "colab_type": "code",
        "colab": {
          "base_uri": "https://localhost:8080/",
          "height": 52
        },
        "outputId": "ee839af1-f9bd-4eab-f51b-e52d80a3a868"
      },
      "source": [
        "t = tensor([2,3],[3,5]) ;t      "
      ],
      "execution_count": 8,
      "outputs": [
        {
          "output_type": "execute_result",
          "data": {
            "text/plain": [
              "tensor([[2, 3],\n",
              "        [3, 5]])"
            ]
          },
          "metadata": {
            "tags": []
          },
          "execution_count": 8
        }
      ]
    },
    {
      "cell_type": "code",
      "metadata": {
        "id": "fTM3ax_efF9O",
        "colab_type": "code",
        "colab": {
          "base_uri": "https://localhost:8080/",
          "height": 34
        },
        "outputId": "7c45ecb7-266b-457e-c640-f619c7930d7d"
      },
      "source": [
        "t.shape\n",
        "len(t.shape)"
      ],
      "execution_count": 10,
      "outputs": [
        {
          "output_type": "execute_result",
          "data": {
            "text/plain": [
              "2"
            ]
          },
          "metadata": {
            "tags": []
          },
          "execution_count": 10
        }
      ]
    },
    {
      "cell_type": "code",
      "metadata": {
        "id": "HVhyKyaff05z",
        "colab_type": "code",
        "colab": {
          "base_uri": "https://localhost:8080/",
          "height": 34
        },
        "outputId": "7e130706-27f6-4cd1-a63d-75a1e1e13d5c"
      },
      "source": [
        "tensor(t.shape).prod()"
      ],
      "execution_count": 12,
      "outputs": [
        {
          "output_type": "execute_result",
          "data": {
            "text/plain": [
              "tensor(4)"
            ]
          },
          "metadata": {
            "tags": []
          },
          "execution_count": 12
        }
      ]
    },
    {
      "cell_type": "code",
      "metadata": {
        "id": "uiu6lB8cf75W",
        "colab_type": "code",
        "colab": {
          "base_uri": "https://localhost:8080/",
          "height": 34
        },
        "outputId": "7db6532a-2bd9-4a77-9070-130700d0ec78"
      },
      "source": [
        "t.numel()"
      ],
      "execution_count": 13,
      "outputs": [
        {
          "output_type": "execute_result",
          "data": {
            "text/plain": [
              "4"
            ]
          },
          "metadata": {
            "tags": []
          },
          "execution_count": 13
        }
      ]
    },
    {
      "cell_type": "code",
      "metadata": {
        "id": "uWAcF1StgE5d",
        "colab_type": "code",
        "colab": {
          "base_uri": "https://localhost:8080/",
          "height": 34
        },
        "outputId": "a6038476-9580-4017-9c8f-912fc537635a"
      },
      "source": [
        "len(tensor(t.numel()).shape)"
      ],
      "execution_count": 14,
      "outputs": [
        {
          "output_type": "execute_result",
          "data": {
            "text/plain": [
              "0"
            ]
          },
          "metadata": {
            "tags": []
          },
          "execution_count": 14
        }
      ]
    },
    {
      "cell_type": "code",
      "metadata": {
        "id": "V_RaC0kRgiZ7",
        "colab_type": "code",
        "colab": {
          "base_uri": "https://localhost:8080/",
          "height": 34
        },
        "outputId": "7eb39acf-c38b-45c8-d3f6-bc07b0f3ca72"
      },
      "source": [
        "len((tensor(2,3)).shape)"
      ],
      "execution_count": 16,
      "outputs": [
        {
          "output_type": "execute_result",
          "data": {
            "text/plain": [
              "1"
            ]
          },
          "metadata": {
            "tags": []
          },
          "execution_count": 16
        }
      ]
    },
    {
      "cell_type": "code",
      "metadata": {
        "id": "pJcMLW6BgrjY",
        "colab_type": "code",
        "colab": {}
      },
      "source": [
        "x = torch.ones(100,2)"
      ],
      "execution_count": 21,
      "outputs": []
    },
    {
      "cell_type": "code",
      "metadata": {
        "id": "zGUjnuQNh1Dg",
        "colab_type": "code",
        "colab": {
          "base_uri": "https://localhost:8080/",
          "height": 104
        },
        "outputId": "a92dd510-f171-465f-a141-dd32c1599ced"
      },
      "source": [
        "x[:,0].uniform_(-1.,1.)\n",
        "x[:5]"
      ],
      "execution_count": 22,
      "outputs": [
        {
          "output_type": "execute_result",
          "data": {
            "text/plain": [
              "tensor([[-0.5425,  1.0000],\n",
              "        [-0.8562,  1.0000],\n",
              "        [-0.1418,  1.0000],\n",
              "        [-0.4654,  1.0000],\n",
              "        [-0.9430,  1.0000]])"
            ]
          },
          "metadata": {
            "tags": []
          },
          "execution_count": 22
        }
      ]
    },
    {
      "cell_type": "code",
      "metadata": {
        "id": "r5_s6hDMiuGr",
        "colab_type": "code",
        "colab": {
          "base_uri": "https://localhost:8080/",
          "height": 52
        },
        "outputId": "4dbba862-89a5-4f36-fa81-838234ddd47c"
      },
      "source": [
        "a = tensor(3.,2.)\n",
        "print(x.shape)\n",
        "print(a.shape)"
      ],
      "execution_count": 27,
      "outputs": [
        {
          "output_type": "stream",
          "text": [
            "torch.Size([100, 2])\n",
            "torch.Size([2])\n"
          ],
          "name": "stdout"
        }
      ]
    },
    {
      "cell_type": "code",
      "metadata": {
        "id": "I9JvUO-Fi_Br",
        "colab_type": "code",
        "colab": {
          "base_uri": "https://localhost:8080/",
          "height": 508
        },
        "outputId": "bdab9e58-6745-4c6a-8f8d-918b600ff99a"
      },
      "source": [
        "y = x@a + torch.rand(100); \n",
        "print(y) \n",
        "plt.scatter(x[:,0],y)"
      ],
      "execution_count": 43,
      "outputs": [
        {
          "output_type": "stream",
          "text": [
            "tensor([ 0.6799, -0.2517,  1.9943,  1.4450,  0.1285,  4.6264,  3.1558,  2.3787,\n",
            "         3.3283,  2.1813,  4.0370,  2.8815,  2.5431, -0.0229,  1.9460,  3.6754,\n",
            "         1.0396,  0.4930,  3.8120,  0.1106, -0.0960,  2.8827,  0.1889,  4.2271,\n",
            "         1.7551, -0.0098,  4.2443,  0.1571,  1.3257,  2.7709,  1.8706,  0.4494,\n",
            "         2.0158,  2.1086,  4.0513,  4.4064,  3.0068,  0.4134,  2.2688,  0.7777,\n",
            "         4.4052,  1.8074,  5.1977,  2.5404,  0.4812,  1.9851,  2.2186,  3.6764,\n",
            "         1.7031,  5.4181,  5.2822,  0.1179,  3.3423,  3.5651,  4.2295,  5.6855,\n",
            "        -0.0182,  1.0844,  0.1734,  3.0140,  3.3621,  1.2358,  1.4092,  5.3052,\n",
            "        -0.4199,  2.4975,  3.1141,  2.2619, -0.2942,  2.2464,  3.5752,  2.4484,\n",
            "         3.2573,  3.8208,  5.3209,  1.7195,  1.8781,  4.6794,  4.6999,  2.0484,\n",
            "         1.3722,  2.5536,  5.5386,  2.5617,  3.8922,  3.6015,  1.8985,  5.3447,\n",
            "         5.3230,  4.8631,  2.8348, -0.5758,  4.1876,  5.3246,  1.0943,  4.4741,\n",
            "         0.1002,  5.0030,  0.6639,  4.6039])\n"
          ],
          "name": "stdout"
        },
        {
          "output_type": "execute_result",
          "data": {
            "text/plain": [
              "<matplotlib.collections.PathCollection at 0x7f5d648b1898>"
            ]
          },
          "metadata": {
            "tags": []
          },
          "execution_count": 43
        },
        {
          "output_type": "display_data",
          "data": {
            "image/png": "[encoded data removed]",
            "text/plain": [
              "<Figure size 432x288 with 1 Axes>"
            ]
          },
          "metadata": {
            "tags": [],
            "needs_background": "light"
          }
        }
      ]
    },
    {
      "cell_type": "code",
      "metadata": {
        "id": "TPMugWFwjFWz",
        "colab_type": "code",
        "colab": {
          "base_uri": "https://localhost:8080/",
          "height": 36
        },
        "outputId": "1074baaf-8aa7-48b0-e2d5-2e1c6577d1aa"
      },
      "source": [
        "#Trying to fit a model now.  (we don't know the parameters, that is , a is not given)\n",
        "\n",
        "a1 = tensor(-1.0,1)\n",
        "\n",
        "a1.type()\n",
        "\n",
        "\n"
      ],
      "execution_count": 33,
      "outputs": [
        {
          "output_type": "execute_result",
          "data": {
            "application/vnd.google.colaboratory.intrinsic+json": {
              "type": "string"
            },
            "text/plain": [
              "'torch.FloatTensor'"
            ]
          },
          "metadata": {
            "tags": []
          },
          "execution_count": 33
        }
      ]
    },
    {
      "cell_type": "code",
      "metadata": {
        "id": "qqzfLKDkp6-c",
        "colab_type": "code",
        "colab": {}
      },
      "source": [
        "def mse(yhat,y) : \n",
        "  return ((yhat-y)**2).mean()"
      ],
      "execution_count": 34,
      "outputs": []
    },
    {
      "cell_type": "code",
      "metadata": {
        "id": "xGpsp_-UqIiV",
        "colab_type": "code",
        "colab": {
          "base_uri": "https://localhost:8080/",
          "height": 225
        },
        "outputId": "c4cc7d96-acdd-41b5-c619-7ce80beb8754"
      },
      "source": [
        "#now calculate yhat \n",
        "yhat = x@a1; yhat"
      ],
      "execution_count": 38,
      "outputs": [
        {
          "output_type": "execute_result",
          "data": {
            "text/plain": [
              "tensor([1.5425, 1.8562, 1.1418, 1.4654, 1.9430, 0.4015, 0.7811, 1.0750, 0.5669,\n",
              "        1.2637, 0.5703, 0.8096, 1.0392, 1.8217, 1.0825, 0.6617, 1.4701, 1.8210,\n",
              "        0.4382, 1.8968, 1.9597, 0.7655, 1.8339, 0.4750, 1.2945, 1.8977, 0.4981,\n",
              "        1.6505, 1.4588, 1.0617, 1.3745, 1.8474, 1.0791, 1.0678, 0.6214, 0.3707,\n",
              "        0.8899, 1.7020, 1.1163, 1.6968, 0.2969, 1.1569, 0.0081, 1.0176, 1.5719,\n",
              "        1.2275, 1.2313, 0.6227, 1.2462, 0.0864, 0.1889, 1.7469, 0.8586, 0.5359,\n",
              "        0.3917, 0.0548, 1.8687, 1.3961, 1.8569, 0.8899, 0.7491, 1.3164, 1.3476,\n",
              "        0.0124, 1.8683, 1.0697, 0.8204, 1.1819, 1.7929, 0.9528, 0.6387, 1.0428,\n",
              "        0.6963, 0.6600, 0.1653, 1.2482, 1.0490, 0.2816, 0.1692, 1.2362, 1.4668,\n",
              "        1.0439, 0.0070, 0.8164, 0.6925, 0.5083, 1.1594, 0.0651, 0.0513, 0.3369,\n",
              "        0.9045, 1.8861, 0.4068, 0.0058, 1.5736, 0.4042, 1.6702, 0.0255, 1.4543,\n",
              "        0.2418])"
            ]
          },
          "metadata": {
            "tags": []
          },
          "execution_count": 38
        }
      ]
    },
    {
      "cell_type": "code",
      "metadata": {
        "id": "3us_o3zkqRWS",
        "colab_type": "code",
        "colab": {
          "base_uri": "https://localhost:8080/",
          "height": 34
        },
        "outputId": "bfc0455c-0b7b-4bb3-fde5-9f8998164edc"
      },
      "source": [
        "error = mse(yhat,y) ; print(error)"
      ],
      "execution_count": 48,
      "outputs": [
        {
          "output_type": "stream",
          "text": [
            "tensor(7.6714)\n"
          ],
          "name": "stdout"
        }
      ]
    },
    {
      "cell_type": "code",
      "metadata": {
        "id": "Pcg7wQVAqipb",
        "colab_type": "code",
        "colab": {
          "base_uri": "https://localhost:8080/",
          "height": 282
        },
        "outputId": "65df8fbb-7559-49e4-9e48-2a89de9cc4a9"
      },
      "source": [
        "plt.scatter(x[:,0],y)\n",
        "plt.scatter(x[:,0],yhat)"
      ],
      "execution_count": 45,
      "outputs": [
        {
          "output_type": "execute_result",
          "data": {
            "text/plain": [
              "<matplotlib.collections.PathCollection at 0x7f5d647dd748>"
            ]
          },
          "metadata": {
            "tags": []
          },
          "execution_count": 45
        },
        {
          "output_type": "display_data",
          "data": {
            "image/png": "[encoded data removed]",
            "text/plain": [
              "<Figure size 432x288 with 1 Axes>"
            ]
          },
          "metadata": {
            "tags": [],
            "needs_background": "light"
          }
        }
      ]
    },
    {
      "cell_type": "code",
      "metadata": {
        "id": "539d21i5raNt",
        "colab_type": "code",
        "colab": {
          "base_uri": "https://localhost:8080/",
          "height": 52
        },
        "outputId": "a10a8d75-d008-4eae-c7c9-417ae41f3981"
      },
      "source": [
        "a = nn.Parameter(a); a"
      ],
      "execution_count": 52,
      "outputs": [
        {
          "output_type": "execute_result",
          "data": {
            "text/plain": [
              "Parameter containing:\n",
              "tensor([2.9631, 2.5249], requires_grad=True)"
            ]
          },
          "metadata": {
            "tags": []
          },
          "execution_count": 52
        }
      ]
    },
    {
      "cell_type": "code",
      "metadata": {
        "id": "-8yZTmzWYJFL",
        "colab_type": "code",
        "colab": {
          "base_uri": "https://localhost:8080/",
          "height": 1000
        },
        "outputId": "1d791816-9173-4bdd-d986-f2325e3fadaf"
      },
      "source": [
        "#Gradient Descent : \n",
        "\n",
        "\n",
        "def update() : \n",
        "  yhat = x@a \n",
        "  loss = mse(yhat,y)\n",
        "  print(loss)\n",
        "  loss.backward()\n",
        "\n",
        "  with torch.no_grad() :  #no_grad() : \n",
        "    a.sub_(lr * a.grad)\n",
        "    print(a.grad)\n",
        "    a.grad.zero_() #clear all existing gradient values before the next loop. \n",
        "\n",
        "lr = 1e-1\n",
        "\n",
        "for t in range(100) : update()\n",
        "\n",
        "plt.scatter(x[:,0],y)\n",
        "plt.scatter(x[:,0],x@a.detach());"
      ],
      "execution_count": 58,
      "outputs": [
        {
          "output_type": "stream",
          "text": [
            "tensor(0.0755, grad_fn=<MeanBackward0>)\n",
            "tensor([1.1742e-06, 2.4587e-07])\n",
            "tensor(0.0755, grad_fn=<MeanBackward0>)\n",
            "tensor([1.1742e-06, 2.4587e-07])\n",
            "tensor(0.0755, grad_fn=<MeanBackward0>)\n",
            "tensor([1.1742e-06, 2.4587e-07])\n",
            "tensor(0.0755, grad_fn=<MeanBackward0>)\n",
            "tensor([1.1742e-06, 2.4587e-07])\n",
            "tensor(0.0755, grad_fn=<MeanBackward0>)\n",
            "tensor([1.1742e-06, 2.4587e-07])\n",
            "tensor(0.0755, grad_fn=<MeanBackward0>)\n",
            "tensor([1.1742e-06, 2.4587e-07])\n",
            "tensor(0.0755, grad_fn=<MeanBackward0>)\n",
            "tensor([1.1742e-06, 2.4587e-07])\n",
            "tensor(0.0755, grad_fn=<MeanBackward0>)\n",
            "tensor([1.1742e-06, 2.4587e-07])\n",
            "tensor(0.0755, grad_fn=<MeanBackward0>)\n",
            "tensor([1.1742e-06, 2.4587e-07])\n",
            "tensor(0.0755, grad_fn=<MeanBackward0>)\n",
            "tensor([1.1742e-06, 2.4587e-07])\n",
            "tensor(0.0755, grad_fn=<MeanBackward0>)\n",
            "tensor([1.1742e-06, 2.4587e-07])\n",
            "tensor(0.0755, grad_fn=<MeanBackward0>)\n",
            "tensor([1.1742e-06, 2.4587e-07])\n",
            "tensor(0.0755, grad_fn=<MeanBackward0>)\n",
            "tensor([1.1742e-06, 2.4587e-07])\n",
            "tensor(0.0755, grad_fn=<MeanBackward0>)\n",
            "tensor([1.1742e-06, 2.4587e-07])\n",
            "tensor(0.0755, grad_fn=<MeanBackward0>)\n",
            "tensor([1.1742e-06, 2.4587e-07])\n",
            "tensor(0.0755, grad_fn=<MeanBackward0>)\n",
            "tensor([1.1742e-06, 2.4587e-07])\n",
            "tensor(0.0755, grad_fn=<MeanBackward0>)\n",
            "tensor([1.1742e-06, 2.4587e-07])\n",
            "tensor(0.0755, grad_fn=<MeanBackward0>)\n",
            "tensor([1.1742e-06, 2.4587e-07])\n",
            "tensor(0.0755, grad_fn=<MeanBackward0>)\n",
            "tensor([1.1742e-06, 2.4587e-07])\n",
            "tensor(0.0755, grad_fn=<MeanBackward0>)\n",
            "tensor([1.1742e-06, 2.4587e-07])\n",
            "tensor(0.0755, grad_fn=<MeanBackward0>)\n",
            "tensor([1.1742e-06, 2.4587e-07])\n",
            "tensor(0.0755, grad_fn=<MeanBackward0>)\n",
            "tensor([1.1742e-06, 2.4587e-07])\n",
            "tensor(0.0755, grad_fn=<MeanBackward0>)\n",
            "tensor([1.1742e-06, 2.4587e-07])\n",
            "tensor(0.0755, grad_fn=<MeanBackward0>)\n",
            "tensor([1.1742e-06, 2.4587e-07])\n",
            "tensor(0.0755, grad_fn=<MeanBackward0>)\n",
            "tensor([1.1742e-06, 2.4587e-07])\n",
            "tensor(0.0755, grad_fn=<MeanBackward0>)\n",
            "tensor([1.1742e-06, 2.4587e-07])\n",
            "tensor(0.0755, grad_fn=<MeanBackward0>)\n",
            "tensor([1.1742e-06, 2.4587e-07])\n",
            "tensor(0.0755, grad_fn=<MeanBackward0>)\n",
            "tensor([1.1742e-06, 2.4587e-07])\n",
            "tensor(0.0755, grad_fn=<MeanBackward0>)\n",
            "tensor([1.1742e-06, 2.4587e-07])\n",
            "tensor(0.0755, grad_fn=<MeanBackward0>)\n",
            "tensor([1.1742e-06, 2.4587e-07])\n",
            "tensor(0.0755, grad_fn=<MeanBackward0>)\n",
            "tensor([1.1742e-06, 2.4587e-07])\n",
            "tensor(0.0755, grad_fn=<MeanBackward0>)\n",
            "tensor([1.1742e-06, 2.4587e-07])\n",
            "tensor(0.0755, grad_fn=<MeanBackward0>)\n",
            "tensor([1.1742e-06, 2.4587e-07])\n",
            "tensor(0.0755, grad_fn=<MeanBackward0>)\n",
            "tensor([1.1742e-06, 2.4587e-07])\n",
            "tensor(0.0755, grad_fn=<MeanBackward0>)\n",
            "tensor([1.1742e-06, 2.4587e-07])\n",
            "tensor(0.0755, grad_fn=<MeanBackward0>)\n",
            "tensor([1.1742e-06, 2.4587e-07])\n",
            "tensor(0.0755, grad_fn=<MeanBackward0>)\n",
            "tensor([1.1742e-06, 2.4587e-07])\n",
            "tensor(0.0755, grad_fn=<MeanBackward0>)\n",
            "tensor([1.1742e-06, 2.4587e-07])\n",
            "tensor(0.0755, grad_fn=<MeanBackward0>)\n",
            "tensor([1.1742e-06, 2.4587e-07])\n",
            "tensor(0.0755, grad_fn=<MeanBackward0>)\n",
            "tensor([1.1742e-06, 2.4587e-07])\n",
            "tensor(0.0755, grad_fn=<MeanBackward0>)\n",
            "tensor([1.1742e-06, 2.4587e-07])\n",
            "tensor(0.0755, grad_fn=<MeanBackward0>)\n",
            "tensor([1.1742e-06, 2.4587e-07])\n",
            "tensor(0.0755, grad_fn=<MeanBackward0>)\n",
            "tensor([1.1742e-06, 2.4587e-07])\n",
            "tensor(0.0755, grad_fn=<MeanBackward0>)\n",
            "tensor([1.1742e-06, 2.4587e-07])\n",
            "tensor(0.0755, grad_fn=<MeanBackward0>)\n",
            "tensor([1.1742e-06, 2.4587e-07])\n",
            "tensor(0.0755, grad_fn=<MeanBackward0>)\n",
            "tensor([1.1742e-06, 2.4587e-07])\n",
            "tensor(0.0755, grad_fn=<MeanBackward0>)\n",
            "tensor([1.1742e-06, 2.4587e-07])\n",
            "tensor(0.0755, grad_fn=<MeanBackward0>)\n",
            "tensor([1.1742e-06, 2.4587e-07])\n",
            "tensor(0.0755, grad_fn=<MeanBackward0>)\n",
            "tensor([1.1742e-06, 2.4587e-07])\n",
            "tensor(0.0755, grad_fn=<MeanBackward0>)\n",
            "tensor([1.1742e-06, 2.4587e-07])\n",
            "tensor(0.0755, grad_fn=<MeanBackward0>)\n",
            "tensor([1.1742e-06, 2.4587e-07])\n",
            "tensor(0.0755, grad_fn=<MeanBackward0>)\n",
            "tensor([1.1742e-06, 2.4587e-07])\n",
            "tensor(0.0755, grad_fn=<MeanBackward0>)\n",
            "tensor([1.1742e-06, 2.4587e-07])\n",
            "tensor(0.0755, grad_fn=<MeanBackward0>)\n",
            "tensor([1.1742e-06, 2.4587e-07])\n",
            "tensor(0.0755, grad_fn=<MeanBackward0>)\n",
            "tensor([1.1742e-06, 2.4587e-07])\n",
            "tensor(0.0755, grad_fn=<MeanBackward0>)\n",
            "tensor([1.1742e-06, 2.4587e-07])\n",
            "tensor(0.0755, grad_fn=<MeanBackward0>)\n",
            "tensor([1.1742e-06, 2.4587e-07])\n",
            "tensor(0.0755, grad_fn=<MeanBackward0>)\n",
            "tensor([1.1742e-06, 2.4587e-07])\n",
            "tensor(0.0755, grad_fn=<MeanBackward0>)\n",
            "tensor([1.1742e-06, 2.4587e-07])\n",
            "tensor(0.0755, grad_fn=<MeanBackward0>)\n",
            "tensor([1.1742e-06, 2.4587e-07])\n",
            "tensor(0.0755, grad_fn=<MeanBackward0>)\n",
            "tensor([1.1742e-06, 2.4587e-07])\n",
            "tensor(0.0755, grad_fn=<MeanBackward0>)\n",
            "tensor([1.1742e-06, 2.4587e-07])\n",
            "tensor(0.0755, grad_fn=<MeanBackward0>)\n",
            "tensor([1.1742e-06, 2.4587e-07])\n",
            "tensor(0.0755, grad_fn=<MeanBackward0>)\n",
            "tensor([1.1742e-06, 2.4587e-07])\n",
            "tensor(0.0755, grad_fn=<MeanBackward0>)\n",
            "tensor([1.1742e-06, 2.4587e-07])\n",
            "tensor(0.0755, grad_fn=<MeanBackward0>)\n",
            "tensor([1.1742e-06, 2.4587e-07])\n",
            "tensor(0.0755, grad_fn=<MeanBackward0>)\n",
            "tensor([1.1742e-06, 2.4587e-07])\n",
            "tensor(0.0755, grad_fn=<MeanBackward0>)\n",
            "tensor([1.1742e-06, 2.4587e-07])\n",
            "tensor(0.0755, grad_fn=<MeanBackward0>)\n",
            "tensor([1.1742e-06, 2.4587e-07])\n",
            "tensor(0.0755, grad_fn=<MeanBackward0>)\n",
            "tensor([1.1742e-06, 2.4587e-07])\n",
            "tensor(0.0755, grad_fn=<MeanBackward0>)\n",
            "tensor([1.1742e-06, 2.4587e-07])\n",
            "tensor(0.0755, grad_fn=<MeanBackward0>)\n",
            "tensor([1.1742e-06, 2.4587e-07])\n",
            "tensor(0.0755, grad_fn=<MeanBackward0>)\n",
            "tensor([1.1742e-06, 2.4587e-07])\n",
            "tensor(0.0755, grad_fn=<MeanBackward0>)\n",
            "tensor([1.1742e-06, 2.4587e-07])\n",
            "tensor(0.0755, grad_fn=<MeanBackward0>)\n",
            "tensor([1.1742e-06, 2.4587e-07])\n",
            "tensor(0.0755, grad_fn=<MeanBackward0>)\n",
            "tensor([1.1742e-06, 2.4587e-07])\n",
            "tensor(0.0755, grad_fn=<MeanBackward0>)\n",
            "tensor([1.1742e-06, 2.4587e-07])\n",
            "tensor(0.0755, grad_fn=<MeanBackward0>)\n",
            "tensor([1.1742e-06, 2.4587e-07])\n",
            "tensor(0.0755, grad_fn=<MeanBackward0>)\n",
            "tensor([1.1742e-06, 2.4587e-07])\n",
            "tensor(0.0755, grad_fn=<MeanBackward0>)\n",
            "tensor([1.1742e-06, 2.4587e-07])\n",
            "tensor(0.0755, grad_fn=<MeanBackward0>)\n",
            "tensor([1.1742e-06, 2.4587e-07])\n",
            "tensor(0.0755, grad_fn=<MeanBackward0>)\n",
            "tensor([1.1742e-06, 2.4587e-07])\n",
            "tensor(0.0755, grad_fn=<MeanBackward0>)\n",
            "tensor([1.1742e-06, 2.4587e-07])\n",
            "tensor(0.0755, grad_fn=<MeanBackward0>)\n",
            "tensor([1.1742e-06, 2.4587e-07])\n",
            "tensor(0.0755, grad_fn=<MeanBackward0>)\n",
            "tensor([1.1742e-06, 2.4587e-07])\n",
            "tensor(0.0755, grad_fn=<MeanBackward0>)\n",
            "tensor([1.1742e-06, 2.4587e-07])\n",
            "tensor(0.0755, grad_fn=<MeanBackward0>)\n",
            "tensor([1.1742e-06, 2.4587e-07])\n",
            "tensor(0.0755, grad_fn=<MeanBackward0>)\n",
            "tensor([1.1742e-06, 2.4587e-07])\n",
            "tensor(0.0755, grad_fn=<MeanBackward0>)\n",
            "tensor([1.1742e-06, 2.4587e-07])\n",
            "tensor(0.0755, grad_fn=<MeanBackward0>)\n",
            "tensor([1.1742e-06, 2.4587e-07])\n",
            "tensor(0.0755, grad_fn=<MeanBackward0>)\n",
            "tensor([1.1742e-06, 2.4587e-07])\n",
            "tensor(0.0755, grad_fn=<MeanBackward0>)\n",
            "tensor([1.1742e-06, 2.4587e-07])\n",
            "tensor(0.0755, grad_fn=<MeanBackward0>)\n",
            "tensor([1.1742e-06, 2.4587e-07])\n",
            "tensor(0.0755, grad_fn=<MeanBackward0>)\n",
            "tensor([1.1742e-06, 2.4587e-07])\n",
            "tensor(0.0755, grad_fn=<MeanBackward0>)\n",
            "tensor([1.1742e-06, 2.4587e-07])\n",
            "tensor(0.0755, grad_fn=<MeanBackward0>)\n",
            "tensor([1.1742e-06, 2.4587e-07])\n",
            "tensor(0.0755, grad_fn=<MeanBackward0>)\n",
            "tensor([1.1742e-06, 2.4587e-07])\n",
            "tensor(0.0755, grad_fn=<MeanBackward0>)\n",
            "tensor([1.1742e-06, 2.4587e-07])\n",
            "tensor(0.0755, grad_fn=<MeanBackward0>)\n",
            "tensor([1.1742e-06, 2.4587e-07])\n",
            "tensor(0.0755, grad_fn=<MeanBackward0>)\n",
            "tensor([1.1742e-06, 2.4587e-07])\n"
          ],
          "name": "stdout"
        },
        {
          "output_type": "display_data",
          "data": {
            "image/png": "[encoded data removed]",
            "text/plain": [
              "<Figure size 432x288 with 1 Axes>"
            ]
          },
          "metadata": {
            "tags": [],
            "needs_background": "light"
          }
        }
      ]
    },
    {
      "cell_type": "code",
      "metadata": {
        "id": "1xuQa5IWeA0U",
        "colab_type": "code",
        "colab": {}
      },
      "source": [
        ""
      ],
      "execution_count": null,
      "outputs": []
    }
  ]
}