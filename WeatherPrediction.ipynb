{
  "nbformat": 4,
  "nbformat_minor": 0,
  "metadata": {
    "colab": {
      "name": "WeatherPrediction.ipynb",
      "provenance": [],
      "private_outputs": true,
      "collapsed_sections": [],
      "mount_file_id": "1EgC2rmj9IQACavl9kAFpfqJt78pt8szx",
      "authorship_tag": "ABX9TyOdLB8m/3t0hP3+1RgTuo1H",
      "include_colab_link": true
    },
    "kernelspec": {
      "name": "python3",
      "display_name": "Python 3"
    },
    "accelerator": "GPU"
  },
  "cells": [
    {
      "cell_type": "markdown",
      "metadata": {
        "id": "view-in-github",
        "colab_type": "text"
      },
      "source": [
        "<a href=\"https://colab.research.google.com/github/Samhithgb/PyTorchBrushUp/blob/master/WeatherPrediction.ipynb\" target=\"_parent\"><img src=\"https://colab.research.google.com/assets/colab-badge.svg\" alt=\"Open In Colab\"/></a>"
      ]
    },
    {
      "cell_type": "code",
      "metadata": {
        "id": "QK3LN4yBhe_R",
        "colab_type": "code",
        "colab": {}
      },
      "source": [
        "%reload_ext autoreload\n",
        "%autoreload 2\n",
        "%matplotlib inline  "
      ],
      "execution_count": null,
      "outputs": []
    },
    {
      "cell_type": "code",
      "metadata": {
        "id": "6a5oymvCirjF",
        "colab_type": "code",
        "colab": {}
      },
      "source": [
        "from fastai.vision import *\n",
        "from fastai.metrics import error_rate \n",
        "from zipfile import ZipFile\n",
        "import requests "
      ],
      "execution_count": null,
      "outputs": []
    },
    {
      "cell_type": "code",
      "metadata": {
        "id": "eU8EFvzCitrv",
        "colab_type": "code",
        "colab": {}
      },
      "source": [
        "bs = 64\n",
        "  "
      ],
      "execution_count": null,
      "outputs": []
    },
    {
      "cell_type": "code",
      "metadata": {
        "id": "pH8Y8T87iwMm",
        "colab_type": "code",
        "colab": {}
      },
      "source": [
        "def download_urls(url, save_path, chunk_size=128):\n",
        "    r = requests.get(url, stream=True)\n",
        "    with open(save_path, 'wb') as fd:\n",
        "        for chunk in r.iter_content(chunk_size=chunk_size):\n",
        "            fd.write(chunk)\n",
        "\n",
        "download_urls(\"https://data.mendeley.com/datasets/4drtyfjtfy/1/files/a03e6097-f7fb-4e1a-9c6a-8923c6a0d3e0/dataset2.zip?dl=1\",\"drive/My Drive/mendel.zip\")"
      ],
      "execution_count": null,
      "outputs": []
    },
    {
      "cell_type": "markdown",
      "metadata": {
        "id": "Ki1xotNQm_n8",
        "colab_type": "text"
      },
      "source": [
        ""
      ]
    },
    {
      "cell_type": "code",
      "metadata": {
        "id": "Jd6LsFhmm-Yn",
        "colab_type": "code",
        "colab": {}
      },
      "source": [
        "with ZipFile(\"drive/My Drive/mendel.zip\", 'r') as zip: \n",
        "  zip.extractall(\"drive/My Drive/mendelextract\")"
      ],
      "execution_count": null,
      "outputs": []
    },
    {
      "cell_type": "code",
      "metadata": {
        "id": "SexSZEhzrOSq",
        "colab_type": "code",
        "colab": {}
      },
      "source": [
        "path = start_path = Path('drive/My Drive/mendelextract')\n",
        "path.ls()\n",
        "path_data = path/'dataset2'\n",
        "\n",
        "path_data.ls()\n",
        "fnames = get_image_files(path_data)\n",
        "fnames[:5]"
      ],
      "execution_count": null,
      "outputs": []
    },
    {
      "cell_type": "code",
      "metadata": {
        "id": "c6S9BJGmvN3m",
        "colab_type": "code",
        "colab": {}
      },
      "source": [
        "doc(ImageDataBunch.from_name_func)"
      ],
      "execution_count": null,
      "outputs": []
    },
    {
      "cell_type": "code",
      "metadata": {
        "id": "_zy7Nh2ysDM7",
        "colab_type": "code",
        "colab": {}
      },
      "source": [
        "np.random.seed(2)\n",
        "\n",
        "\n",
        "def get_labels(file_path): \n",
        "  o = str(file_path)\n",
        "  if 'shine' in o: \n",
        "    return \"shine\" \n",
        "  elif 'sunrise' in o: \n",
        "    return \"sunrise\"\n",
        "  elif 'rain' in o: \n",
        "    return 'rain'\n",
        "  elif 'cloudy' in o: \n",
        "    return \"cloudy\"\n",
        "\n",
        "data = ImageDataBunch.from_name_func(path_data, fnames, label_func=get_labels, ds_tfms= get_transforms(), size=24)\n",
        "data.classes"
      ],
      "execution_count": null,
      "outputs": []
    },
    {
      "cell_type": "code",
      "metadata": {
        "id": "5d0A6C7sulq9",
        "colab_type": "code",
        "colab": {}
      },
      "source": [
        "data.show_batch(rows=3, figsize=(7,6))"
      ],
      "execution_count": null,
      "outputs": []
    },
    {
      "cell_type": "code",
      "metadata": {
        "id": "UUfKKqr4wFya",
        "colab_type": "code",
        "colab": {}
      },
      "source": [
        "learner = cnn_learner(data,models.resnet34,metrics=error_rate)"
      ],
      "execution_count": null,
      "outputs": []
    },
    {
      "cell_type": "code",
      "metadata": {
        "id": "M7j75zjRxFTR",
        "colab_type": "code",
        "colab": {}
      },
      "source": [
        "learner.model"
      ],
      "execution_count": null,
      "outputs": []
    },
    {
      "cell_type": "code",
      "metadata": {
        "id": "ISIzJXn8xN0Y",
        "colab_type": "code",
        "colab": {}
      },
      "source": [
        "doc(learner.fit_one_cycle)"
      ],
      "execution_count": null,
      "outputs": []
    },
    {
      "cell_type": "code",
      "metadata": {
        "id": "wcg8btcOxvQM",
        "colab_type": "code",
        "colab": {}
      },
      "source": [
        "learner.fit_one_cycle(3)"
      ],
      "execution_count": null,
      "outputs": []
    },
    {
      "cell_type": "code",
      "metadata": {
        "id": "fmLhze75R5wb",
        "colab_type": "code",
        "colab": {}
      },
      "source": [
        "learner.save('stage-1')"
      ],
      "execution_count": null,
      "outputs": []
    },
    {
      "cell_type": "code",
      "metadata": {
        "id": "6UVlO1x3R8U1",
        "colab_type": "code",
        "colab": {}
      },
      "source": [
        "interp = ClassificationInterpretation.from_learner(learner)\n",
        "interp.plot_top_losses(9, figsize=(15,11))"
      ],
      "execution_count": null,
      "outputs": []
    },
    {
      "cell_type": "code",
      "metadata": {
        "id": "s6IoQSWNSYa9",
        "colab_type": "code",
        "colab": {}
      },
      "source": [
        "interp.plot_confusion_matrix(figsize=(12,12), dpi=60)"
      ],
      "execution_count": null,
      "outputs": []
    },
    {
      "cell_type": "code",
      "metadata": {
        "id": "X7LZs5L-Sheh",
        "colab_type": "code",
        "colab": {}
      },
      "source": [
        "interp.most_confused(min_val=2)"
      ],
      "execution_count": null,
      "outputs": []
    },
    {
      "cell_type": "markdown",
      "metadata": {
        "id": "jCQJp9ZnR5lC",
        "colab_type": "text"
      },
      "source": [
        ""
      ]
    }
  ]
}